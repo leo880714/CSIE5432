{
 "cells": [
  {
   "cell_type": "code",
   "execution_count": 125,
   "metadata": {
    "scrolled": true
   },
   "outputs": [
    {
     "name": "stdout",
     "output_type": "stream",
     "text": [
      "input x_0: 0\n",
      "input the value of scaling down the vector: 4\n",
      "median of updates:  17.0\n",
      "median of w_0:  0.0\n"
     ]
    },
    {
     "data": {
      "text/plain": [
       "'/Users/leo/Desktop/hello/ML/hw1/__pycache__/ml_hw1.cpython-36.pyc'"
      ]
     },
     "execution_count": 125,
     "metadata": {},
     "output_type": "execute_result"
    }
   ],
   "source": [
    "import numpy as np\n",
    "import random\n",
    "import py_compile\n",
    "import matplotlib.pyplot as plt\n",
    "\n",
    "#main\n",
    "data = np.genfromtxt(\"hw1_train.dat.txt\")\n",
    "x_0 = input('input x_0: ')\n",
    "scale = input('input the value of scaling down the vector: ')\n",
    "\n",
    "x_0 = int(x_0)\n",
    "scale = int(scale)\n",
    "\n",
    "result = []\n",
    "result_w = []\n",
    "\n",
    "X = data[:, : -1]\n",
    "y = data[:, data.shape[1]-1]\n",
    "X = np.c_[(x_0 * np.ones(X.shape[0]), X)]\n",
    "X = X / scale\n",
    "\n",
    "for i in range(1000):\n",
    "    w = np.zeros((1, 11), np.float)\n",
    "    t = 0 #count the number of iteration\n",
    "    correct = 0\n",
    "    \n",
    "    while correct < 5 * X.shape[0]:\n",
    "        k = random.randint(0, X.shape[0]-1)\n",
    "        for i in range(n):\n",
    "            \n",
    "        sign = np.sign(np.inner(X[k, :], w))\n",
    "                       \n",
    "        if sign*y[k] <= 0:\n",
    "            correct = 0\n",
    "            w +=  y[k] * X[k, :]\n",
    "            t += 1\n",
    "        else:\n",
    "            correct += 1\n",
    "    \n",
    "    result.append(t)\n",
    "    result_w.append(w[0][0])\n",
    "\n",
    "#plt.hist(result)\n",
    "#plt.show()\n",
    "print(\"median of updates: \", np.median(result))\n",
    "print(\"median of w_0: \", np.median(result_w))\n",
    "py_compile.compile(\"/Users/leo/Desktop/hello/ML/hw1/ml_hw1.py\")"
   ]
  },
  {
   "cell_type": "code",
   "execution_count": null,
   "metadata": {},
   "outputs": [],
   "source": []
  },
  {
   "cell_type": "code",
   "execution_count": null,
   "metadata": {},
   "outputs": [],
   "source": []
  }
 ],
 "metadata": {
  "kernelspec": {
   "display_name": "Python 3",
   "language": "python",
   "name": "python3"
  },
  "language_info": {
   "codemirror_mode": {
    "name": "ipython",
    "version": 3
   },
   "file_extension": ".py",
   "mimetype": "text/x-python",
   "name": "python",
   "nbconvert_exporter": "python",
   "pygments_lexer": "ipython3",
   "version": "3.6.10"
  }
 },
 "nbformat": 4,
 "nbformat_minor": 4
}
