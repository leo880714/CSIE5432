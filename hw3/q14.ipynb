{
 "cells": [
  {
   "cell_type": "code",
   "execution_count": 3,
   "metadata": {},
   "outputs": [
    {
     "name": "stdout",
     "output_type": "stream",
     "text": [
      "E_in =  0.6053223804672918\n"
     ]
    }
   ],
   "source": [
    "##for question 14\n",
    "import numpy as np\n",
    "\n",
    "#main\n",
    "data_in = np.genfromtxt(\"hw3_train.dat.txt\")\n",
    "\n",
    "X = data_in[:, : -1]\n",
    "y = data_in[:, -1]\n",
    "X = np.c_[(1 * np.ones(X.shape[0]), X)]\n",
    "\n",
    "X_p = np.linalg.pinv(X)\n",
    "w_lin = X_p.dot(y)\n",
    "E_in_sqr = 0\n",
    "tmp_s = np.inner(X, w_lin)-y\n",
    "E_in_sqr = np.linalg.norm(tmp_s)**2/X.shape[0]\n",
    "print(\"E_in = \", E_in_sqr)\n"
   ]
  },
  {
   "cell_type": "code",
   "execution_count": 4,
   "metadata": {},
   "outputs": [
    {
     "data": {
      "image/png": "[encoded data removed]",
      "text/plain": [
       "<Figure size 432x288 with 1 Axes>"
      ]
     },
     "metadata": {
      "needs_background": "light"
     },
     "output_type": "display_data"
    },
    {
     "name": "stdout",
     "output_type": "stream",
     "text": [
      "The average number of iteration is :  1902.81\n"
     ]
    }
   ],
   "source": [
    "##for question 15\n",
    "import numpy as np\n",
    "import random\n",
    "import py_compile\n",
    "import matplotlib.pyplot as plt\n",
    "\n",
    "#main\n",
    "data = np.genfromtxt(\"hw3_train.dat.txt\")\n",
    "\n",
    "result = []\n",
    "X = data[:, : -1]\n",
    "y = data[:, -1]\n",
    "y = y.reshape([X.shape[0], 1])\n",
    "X = np.c_[(1 * np.ones(X.shape[0]), X)]\n",
    "X_p = np.linalg.pinv(X)\n",
    "w_lin = X_p.dot(y)\n",
    "\n",
    "E_in_sqr = 0\n",
    "for i in range(X.shape[0]):\n",
    "    x_i = np.array(X[i, :])\n",
    "    x_i = x_i.reshape((1, X.shape[1]))\n",
    "    E_in_sqr += (np.dot(x_i,w_lin) - y[i]) * (np.dot(x_i,w_lin) - y[i])\n",
    "\n",
    "E_in_sqr /= X.shape[0]\n",
    "#print(E_in_sqr)\n",
    "\n",
    "for i in range(1000):\n",
    "    w = np.zeros((X.shape[1], 1), np.float)\n",
    "    t = 0 #count the number of iteration\n",
    "    #print(i)\n",
    "    while True:\n",
    "        t += 1\n",
    "        k = random.randint(0, X.shape[0]-1)\n",
    "        x_k = np.array(X[k, :])\n",
    "        x_k = x_k.reshape((1, X.shape[1]))\n",
    "\n",
    "        w_gradient=np.zeros(shape=(X.shape[1], 1))\n",
    "        prediction=np.dot(x_k, w)\n",
    "        w_gradient = (-2)*(y[k]-(prediction)) * x_k.T\n",
    " \n",
    "        w = w -  0.001 * w_gradient\n",
    "        \n",
    "        w_s = np.squeeze(w)\n",
    "        y = np.squeeze(y)\n",
    "        temp = np.inner(X, w_s) - y\n",
    "        E_in = np.linalg.norm(temp)**2\n",
    "        E_in /= X.shape[0]\n",
    "        \n",
    "        if E_in <= 1.01 * E_in_sqr:\n",
    "            #print(t)\n",
    "            break\n",
    "                      \n",
    "    result.append(t)\n",
    "                  \n",
    "plt.hist(result)\n",
    "plt.show()\n",
    "print(\"The average number of iteration is : \", np.mean(result))"
   ]
  },
  {
   "cell_type": "code",
   "execution_count": 374,
   "metadata": {},
   "outputs": [
    {
     "data": {
      "image/png": "[encoded data removed]",
      "text/plain": [
       "<Figure size 432x288 with 1 Axes>"
      ]
     },
     "metadata": {
      "needs_background": "light"
     },
     "output_type": "display_data"
    },
    {
     "name": "stdout",
     "output_type": "stream",
     "text": [
      "The average E_in_500 is :  0.5687996150790591\n"
     ]
    }
   ],
   "source": [
    "##for question 16\n",
    "import numpy as np\n",
    "import random\n",
    "import py_compile\n",
    "import math\n",
    "import matplotlib.pyplot as plt\n",
    "\n",
    "#main\n",
    "data = np.genfromtxt(\"hw3_train.dat.txt\")\n",
    "\n",
    "result = []\n",
    "X = data[:, : -1]\n",
    "y = data[:, -1]\n",
    "y = y.reshape([X.shape[0], 1])\n",
    "X = np.c_[(1 * np.ones(X.shape[0]), X)]\n",
    "X_p = np.linalg.pinv(X)\n",
    "w_lin = X_p.dot(y)\n",
    "\n",
    "E_in_sqr = 0\n",
    "for i in range(X.shape[0]):\n",
    "    x_i = np.array(X[i, :])\n",
    "    x_i = x_i.reshape((1, X.shape[1]))\n",
    "    E_in_sqr += (np.dot(x_i,w_lin) - y[i]) * (np.dot(x_i,w_lin) - y[i])\n",
    "\n",
    "E_in_sqr /= X.shape[0]\n",
    "#print(E_in_sqr)\n",
    "\n",
    "for i in range(1000):\n",
    "    w = np.zeros((X.shape[1], 1), np.float)\n",
    "    t = 0 #count the number of iteration\n",
    "\n",
    "    for j in range(500):\n",
    "        t += 1\n",
    "        k = random.randint(0, X.shape[0]-1)\n",
    "        x_k = np.array(X[k, :])\n",
    "        x_k = x_k.reshape((1, X.shape[1]))\n",
    "    \n",
    "        s = -y[k] * np.dot(x_k, w)\n",
    "        w = w +  0.001 / (1 + math.exp(-s))  * y[k] * x_k.T\n",
    "    \n",
    "    E_in = 0\n",
    "    s = np.dot(X, w)\n",
    "    for j in range(X.shape[0]):\n",
    "        E_in += math.log((1 + math.exp(-y[j]*s[j])),math.e)\n",
    "    E_in /= X.shape[0]\n",
    "    result.append(E_in)\n",
    "          \n",
    "plt.hist(result)\n",
    "plt.show()\n",
    "print(\"The average E_in_500 is : \", np.mean(result))"
   ]
  },
  {
   "cell_type": "code",
   "execution_count": 373,
   "metadata": {},
   "outputs": [
    {
     "name": "stdout",
     "output_type": "stream",
     "text": [
      "[[0.60532238]]\n"
     ]
    },
    {
     "data": {
      "image/png": "[encoded data removed]",
      "text/plain": [
       "<Figure size 432x288 with 1 Axes>"
      ]
     },
     "metadata": {
      "needs_background": "light"
     },
     "output_type": "display_data"
    },
    {
     "name": "stdout",
     "output_type": "stream",
     "text": [
      "The average E_in_500 is :  0.5028538554465445\n"
     ]
    }
   ],
   "source": [
    "##for question 17\n",
    "import numpy as np\n",
    "import random\n",
    "import py_compile\n",
    "import math\n",
    "import matplotlib.pyplot as plt\n",
    "\n",
    "#main\n",
    "data = np.genfromtxt(\"hw3_train.dat.txt\")\n",
    "\n",
    "result = []\n",
    "X = data[:, : -1]\n",
    "y = data[:, -1]\n",
    "y = y.reshape([X.shape[0], 1])\n",
    "X = np.c_[(1 * np.ones(X.shape[0]), X)]\n",
    "X_p = np.linalg.pinv(X)\n",
    "w_lin = X_p.dot(y)\n",
    "\n",
    "E_in_sqr = 0\n",
    "for i in range(X.shape[0]):\n",
    "    x_i = np.array(X[i, :])\n",
    "    x_i = x_i.reshape((1, X.shape[1]))\n",
    "    E_in_sqr += (np.dot(x_i,w_lin) - y[i]) * (np.dot(x_i,w_lin) - y[i])\n",
    "\n",
    "E_in_sqr /= X.shape[0]\n",
    "#print(E_in_sqr)\n",
    "\n",
    "for i in range(1000):\n",
    "    w = w_lin\n",
    "    t = 0 #count the number of iteration\n",
    "    \n",
    "    for j in range(500):\n",
    "        t += 1\n",
    "        k = random.randint(0, X.shape[0]-1)\n",
    "        x_k = np.array(X[k, :])\n",
    "        x_k = x_k.reshape((1, X.shape[1]))\n",
    "    \n",
    "        s = -y[k] * np.dot(x_k, w)\n",
    "        w = w +  0.001 / (1 + math.exp(-s))  * y[k] * x_k.T\n",
    "    \n",
    "    E_in = 0\n",
    "    s = np.dot(X, w)\n",
    "    \n",
    "    for j in range(X.shape[0]):\n",
    "        E_in += math.log((1 + math.exp(-y[j]*s[j])),math.e)\n",
    "    E_in /= X.shape[0]\n",
    "    #print(E_in)\n",
    "    result.append(E_in)\n",
    "          \n",
    "plt.hist(result)\n",
    "plt.show()\n",
    "print(\"The average E_in_500 is : \", np.mean(result))"
   ]
  },
  {
   "cell_type": "code",
   "execution_count": 371,
   "metadata": {},
   "outputs": [
    {
     "name": "stdout",
     "output_type": "stream",
     "text": [
      "|E_in - E_out| =  0.3226666666666666\n"
     ]
    }
   ],
   "source": [
    "##for question 18\n",
    "import numpy as np\n",
    "\n",
    "#main\n",
    "data_in = np.genfromtxt(\"hw3_train.dat.txt\")\n",
    "\n",
    "X = data_in[:, : -1]\n",
    "y = data_in[:, -1]\n",
    "X = np.c_[(1 * np.ones(X.shape[0]), X)]\n",
    "\n",
    "X_p = np.linalg.pinv(X)\n",
    "w_lin = X_p.dot(y)\n",
    "s = np.dot(X, w_lin)\n",
    "\n",
    "E_in = 0\n",
    "for i in range (X.shape[0]):\n",
    "    if(np.sign(s[i]) != y[i]):\n",
    "        E_in += 1 \n",
    "E_in /= X.shape[0]\n",
    "\n",
    "data_out = np.genfromtxt(\"hw3_test.dat.txt\")\n",
    "X_out = data_out[:, : -1]\n",
    "y_out = data_out[:, -1]\n",
    "X_out = np.c_[(1 * np.ones(X_out.shape[0]), X_out)]\n",
    "s_out = np.dot(X_out, w_lin)\n",
    "\n",
    "E_out = 0\n",
    "for i in range (X_out.shape[0]):\n",
    "    if(np.sign(s_out[i]) != y_out[i]):\n",
    "        E_out += 1 \n",
    "E_out /= X_out.shape[0]\n",
    "print(\"|E_in - E_out| = \", abs(E_in - E_out))"
   ]
  },
  {
   "cell_type": "code",
   "execution_count": 2,
   "metadata": {},
   "outputs": [
    {
     "name": "stdout",
     "output_type": "stream",
     "text": [
      "Q = 10\n",
      "E_in =  0.049\n",
      "E_out =  0.49566666666666664\n",
      "|E_in - E_out| =  0.44666666666666666\n"
     ]
    }
   ],
   "source": [
    "##for question 19&20\n",
    "import numpy as np\n",
    "import math\n",
    "\n",
    "#main\n",
    "n = input('Q = ')\n",
    "n= int(n)\n",
    "\n",
    "data_in = np.genfromtxt(\"hw3_train.dat.txt\")\n",
    "\n",
    "X = data_in[:, : -1]\n",
    "d = X.shape[1]\n",
    "y = data_in[:, -1]\n",
    "X = np.c_[(1 * np.ones(X.shape[0]), X)]\n",
    "\n",
    "X_poly = X\n",
    "for i in range((n - 1)*d):\n",
    "    exp = math.floor(i / d) + 2\n",
    "    add = np.power(X_poly[:, i%d+1], exp)\n",
    "    X_poly = np.insert(X_poly, X_poly.shape[1], values=add, axis=1)\n",
    "\n",
    "X_p = np.linalg.pinv(X_poly)\n",
    "w_lin = X_p.dot(y)\n",
    "\n",
    "s = np.dot(X_poly, w_lin)\n",
    "E_in = 0\n",
    "for i in range (X.shape[0]):\n",
    "    if(np.sign(s[i]) != np.sign(y[i])):\n",
    "        E_in += 1 \n",
    "E_in /= X.shape[0]\n",
    "print(\"E_in = \", E_in)\n",
    "\n",
    "data_out = np.genfromtxt(\"hw3_test.dat.txt\")\n",
    "X_out = data_out[:, : -1]\n",
    "y_out = data_out[:, -1]\n",
    "X_out = np.c_[(1 * np.ones(X_out.shape[0]), X_out)]\n",
    "\n",
    "X_out_poly = X_out\n",
    "for i in range((n - 1)*d):\n",
    "    exp = math.floor(i / d) + 2\n",
    "    add = np.power(X_out_poly[:, i%d+1], exp)\n",
    "    X_out_poly = np.insert(X_out_poly, X_out_poly.shape[1], values=add, axis=1)\n",
    "\n",
    "s_out = np.dot(X_out_poly, w_lin)\n",
    "E_out = 0\n",
    "for i in range (X_out.shape[0]):\n",
    "    if(np.sign(s_out[i]) != np.sign(y_out[i])):\n",
    "        E_out += 1 \n",
    "E_out /= X_out.shape[0]\n",
    "print(\"E_out = \", E_out)\n",
    "print(\"|E_in - E_out| = \", abs(E_in - E_out))\n"
   ]
  },
  {
   "cell_type": "code",
   "execution_count": null,
   "metadata": {},
   "outputs": [],
   "source": []
  }
 ],
 "metadata": {
  "kernelspec": {
   "display_name": "Python 3",
   "language": "python",
   "name": "python3"
  },
  "language_info": {
   "codemirror_mode": {
    "name": "ipython",
    "version": 3
   },
   "file_extension": ".py",
   "mimetype": "text/x-python",
   "name": "python",
   "nbconvert_exporter": "python",
   "pygments_lexer": "ipython3",
   "version": "3.6.10"
  }
 },
 "nbformat": 4,
 "nbformat_minor": 4
}
