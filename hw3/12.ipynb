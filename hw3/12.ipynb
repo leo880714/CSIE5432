{
 "cells": [
  {
   "cell_type": "code",
   "execution_count": 16,
   "metadata": {},
   "outputs": [
    {
     "name": "stdout",
     "output_type": "stream",
     "text": [
      "Enter input coefficients: -7,0,0,2,-2,3\n",
      "-1\n",
      "0\n",
      "-1\n",
      "1\n",
      "1\n",
      "1.0\n",
      "1\n"
     ]
    }
   ],
   "source": [
    "import numpy as np\n",
    "def compute(x ,c , a, b, aa, ab, bb):\n",
    "    return c*1 + a * x[0] + b * x[1] + aa * x[0] * x[0] + ab * x[0] * x[1] + bb * x[1] * x[1] \n",
    "    \n",
    "\n",
    "c , a, b, aa, ab, bb = input('Enter input coefficients: ').split(',')\n",
    "c = int(c)\n",
    "a = int(a)\n",
    "b = int(b)\n",
    "aa = int(aa)\n",
    "ab = int(ab)\n",
    "bb = int(bb)\n",
    "\n",
    "x1 = (0, 1)\n",
    "x2 = (1, -1)\n",
    "x3 = (-1, 0)\n",
    "x4 = (-1, 2)\n",
    "x5 = (2, 0)\n",
    "x6 = (1, -1.5)\n",
    "x7 = (0, 2)\n",
    "\n",
    "print(np.sign(compute(x1, c , a, b, aa, ab, bb)))\n",
    "print(np.sign(compute(x2, c , a, b, aa, ab, bb)))\n",
    "print(np.sign(compute(x3, c , a, b, aa, ab, bb)))\n",
    "print(np.sign(compute(x4, c , a, b, aa, ab, bb)))\n",
    "print(np.sign(compute(x5, c , a, b, aa, ab, bb)))\n",
    "print(np.sign(compute(x6, c , a, b, aa, ab, bb)))\n",
    "print(np.sign(compute(x7, c , a, b, aa, ab, bb)))\n"
   ]
  },
  {
   "cell_type": "code",
   "execution_count": null,
   "metadata": {},
   "outputs": [],
   "source": []
  },
  {
   "cell_type": "code",
   "execution_count": null,
   "metadata": {},
   "outputs": [],
   "source": []
  }
 ],
 "metadata": {
  "kernelspec": {
   "display_name": "Python 3",
   "language": "python",
   "name": "python3"
  },
  "language_info": {
   "codemirror_mode": {
    "name": "ipython",
    "version": 3
   },
   "file_extension": ".py",
   "mimetype": "text/x-python",
   "name": "python",
   "nbconvert_exporter": "python",
   "pygments_lexer": "ipython3",
   "version": "3.6.10"
  }
 },
 "nbformat": 4,
 "nbformat_minor": 4
}
